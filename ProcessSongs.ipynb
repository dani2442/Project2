{
 "cells": [
  {
   "cell_type": "code",
   "execution_count": 9,
   "id": "149b37f1-c0cf-49bb-b593-937531d0ef9d",
   "metadata": {},
   "outputs": [],
   "source": [
    "from os import listdir\n",
    "import os\n",
    "from os.path import isfile, join\n",
    "import numpy as np\n",
    "import pandas as pd\n",
    "import librosa\n",
    "import json\n",
    "from tqdm import tqdm\n",
    "import torch\n",
    "import csv"
   ]
  },
  {
   "cell_type": "code",
   "execution_count": 82,
   "id": "75e5dd1e-0687-4a5b-ac11-1a2da2c1d5ac",
   "metadata": {},
   "outputs": [],
   "source": [
    "mypath = 'data/raw/Progressive_Rock_Songs/'\n",
    "progressive_rock = [[os.path.join(dirpath,f), 1] for (dirpath, dirnames, filenames) in os.walk(mypath) for f in filenames if f.endswith('.mp3')]"
   ]
  },
  {
   "cell_type": "code",
   "execution_count": 83,
   "id": "dad8fb59-316d-4a44-8120-36002dcc4e00",
   "metadata": {},
   "outputs": [],
   "source": [
    "mypath = 'data/raw/Not_Progressive_Rock/'\n",
    "not_progressive_rock = [[os.path.join(dirpath,f), 0] for (dirpath, dirnames, filenames) in os.walk(mypath) for f in filenames if f.endswith('.mp3')]"
   ]
  },
  {
   "cell_type": "code",
   "execution_count": 84,
   "id": "244efc86-9df7-4a03-b64c-4ee64a0ef9cc",
   "metadata": {},
   "outputs": [],
   "source": [
    "dataset = not_progressive_rock + progressive_rock"
   ]
  },
  {
   "cell_type": "code",
   "execution_count": 86,
   "id": "4f582a02-ca0c-43ab-8a18-c9d1423b25c0",
   "metadata": {},
   "outputs": [],
   "source": [
    "my_df = pd.DataFrame(dataset)\n",
    "my_df.to_csv('annotations_v2.csv', index=False, header=False)"
   ]
  },
  {
   "cell_type": "code",
   "execution_count": 87,
   "id": "9187fecc-2ecd-47bd-9bea-cbbef34d990f",
   "metadata": {},
   "outputs": [
    {
     "data": {
      "text/html": [
       "<div>\n",
       "<style scoped>\n",
       "    .dataframe tbody tr th:only-of-type {\n",
       "        vertical-align: middle;\n",
       "    }\n",
       "\n",
       "    .dataframe tbody tr th {\n",
       "        vertical-align: top;\n",
       "    }\n",
       "\n",
       "    .dataframe thead th {\n",
       "        text-align: right;\n",
       "    }\n",
       "</style>\n",
       "<table border=\"1\" class=\"dataframe\">\n",
       "  <thead>\n",
       "    <tr style=\"text-align: right;\">\n",
       "      <th></th>\n",
       "      <th>0</th>\n",
       "      <th>1</th>\n",
       "    </tr>\n",
       "  </thead>\n",
       "  <tbody>\n",
       "    <tr>\n",
       "      <th>0</th>\n",
       "      <td>data/raw/Not_Progressive_Rock/Other_Songs\\01 -...</td>\n",
       "      <td>0</td>\n",
       "    </tr>\n",
       "    <tr>\n",
       "      <th>1</th>\n",
       "      <td>data/raw/Not_Progressive_Rock/Other_Songs\\01 -...</td>\n",
       "      <td>0</td>\n",
       "    </tr>\n",
       "    <tr>\n",
       "      <th>2</th>\n",
       "      <td>data/raw/Not_Progressive_Rock/Other_Songs\\01 -...</td>\n",
       "      <td>0</td>\n",
       "    </tr>\n",
       "    <tr>\n",
       "      <th>3</th>\n",
       "      <td>data/raw/Not_Progressive_Rock/Other_Songs\\01 -...</td>\n",
       "      <td>0</td>\n",
       "    </tr>\n",
       "    <tr>\n",
       "      <th>4</th>\n",
       "      <td>data/raw/Not_Progressive_Rock/Other_Songs\\01 -...</td>\n",
       "      <td>0</td>\n",
       "    </tr>\n",
       "    <tr>\n",
       "      <th>...</th>\n",
       "      <td>...</td>\n",
       "      <td>...</td>\n",
       "    </tr>\n",
       "    <tr>\n",
       "      <th>267</th>\n",
       "      <td>data/raw/Progressive_Rock_Songs/L'evoluzione.mp3</td>\n",
       "      <td>1</td>\n",
       "    </tr>\n",
       "    <tr>\n",
       "      <th>268</th>\n",
       "      <td>data/raw/Progressive_Rock_Songs/MIKE OLDFIELD ...</td>\n",
       "      <td>1</td>\n",
       "    </tr>\n",
       "    <tr>\n",
       "      <th>269</th>\n",
       "      <td>data/raw/Progressive_Rock_Songs/Pain of Salvat...</td>\n",
       "      <td>1</td>\n",
       "    </tr>\n",
       "    <tr>\n",
       "      <th>270</th>\n",
       "      <td>data/raw/Progressive_Rock_Songs/The Flower Kin...</td>\n",
       "      <td>1</td>\n",
       "    </tr>\n",
       "    <tr>\n",
       "      <th>271</th>\n",
       "      <td>data/raw/Progressive_Rock_Songs/Thick As A Bri...</td>\n",
       "      <td>1</td>\n",
       "    </tr>\n",
       "  </tbody>\n",
       "</table>\n",
       "<p>272 rows × 2 columns</p>\n",
       "</div>"
      ],
      "text/plain": [
       "                                                     0  1\n",
       "0    data/raw/Not_Progressive_Rock/Other_Songs\\01 -...  0\n",
       "1    data/raw/Not_Progressive_Rock/Other_Songs\\01 -...  0\n",
       "2    data/raw/Not_Progressive_Rock/Other_Songs\\01 -...  0\n",
       "3    data/raw/Not_Progressive_Rock/Other_Songs\\01 -...  0\n",
       "4    data/raw/Not_Progressive_Rock/Other_Songs\\01 -...  0\n",
       "..                                                 ... ..\n",
       "267   data/raw/Progressive_Rock_Songs/L'evoluzione.mp3  1\n",
       "268  data/raw/Progressive_Rock_Songs/MIKE OLDFIELD ...  1\n",
       "269  data/raw/Progressive_Rock_Songs/Pain of Salvat...  1\n",
       "270  data/raw/Progressive_Rock_Songs/The Flower Kin...  1\n",
       "271  data/raw/Progressive_Rock_Songs/Thick As A Bri...  1\n",
       "\n",
       "[272 rows x 2 columns]"
      ]
     },
     "execution_count": 87,
     "metadata": {},
     "output_type": "execute_result"
    }
   ],
   "source": [
    "pd.read_csv('annotations_v2.csv', header=None)"
   ]
  },
  {
   "cell_type": "code",
   "execution_count": 35,
   "id": "cfc9c5c3-5a4c-43f1-ba03-358e48399f07",
   "metadata": {},
   "outputs": [],
   "source": [
    "relative_path = 'data/'\n",
    "mypath = relative_path + 'raw/Progressive_Rock_Songs/'\n",
    "progressive_rock = [[os.path.join(dirpath,f), 1] for (dirpath, dirnames, filenames) in os.walk(mypath) for f in filenames if f.endswith('.mp3')]\n",
    "mypath = relative_path + 'raw/Not_Progressive_Rock/'\n",
    "not_progressive_rock = [[os.path.join(dirpath,f), 0] for (dirpath, dirnames, filenames) in os.walk(mypath) for f in filenames if f.endswith('.mp3')]\n",
    "dataset = not_progressive_rock + progressive_rock"
   ]
  },
  {
   "cell_type": "code",
   "execution_count": 40,
   "id": "67833a0f-f60a-487a-9d93-7c2602bf9938",
   "metadata": {},
   "outputs": [],
   "source": [
    "from utils.audio import log_mel_spectrogram\n",
    "os.makedirs('data/process/',exist_ok=True)\n",
    "\n",
    "data = []\n",
    "for i, (path, value) in enumerate(dataset):\n",
    "    array = log_mel_spectrogram(path)\n",
    "    new_path = f'data/process/tensor_{i:04d}.pt'\n",
    "    torch.save(array, new_path)\n",
    "    data += [[new_path, value]]"
   ]
  },
  {
   "cell_type": "code",
   "execution_count": 43,
   "id": "f0820623-5f42-4060-be3a-cd806ee41c30",
   "metadata": {},
   "outputs": [],
   "source": [
    "dataset = []\n",
    "for i in range(int(len(data)/2)):\n",
    "    dataset+=[[data[2*i],data[2*i+1]]]"
   ]
  },
  {
   "cell_type": "code",
   "execution_count": 45,
   "id": "934e3de4-a9ed-4265-8adc-1733de1bfde7",
   "metadata": {},
   "outputs": [],
   "source": [
    "my_df = pd.DataFrame(dataset)\n",
    "my_df.to_csv('annotations_v3.csv', index=False, header=False)"
   ]
  },
  {
   "cell_type": "code",
   "execution_count": 6,
   "id": "a79e2cbe-f767-4045-8e25-10b1879d42fb",
   "metadata": {},
   "outputs": [],
   "source": [
    "relative_path = 'data/'\n",
    "mypath = relative_path + 'cap6610fa22_test_set/Progressive_Rock_Songs/'\n",
    "progressive_rock = [[os.path.join(dirpath,f), 1] for (dirpath, dirnames, filenames) in os.walk(mypath) for f in filenames if f.endswith('.mp3')]\n",
    "mypath = relative_path + 'cap6610fa22_test_set/Not_Progressive_Rock/'\n",
    "not_progressive_rock = [[os.path.join(dirpath,f), 0] for (dirpath, dirnames, filenames) in os.walk(mypath) for f in filenames if f.endswith('.mp3')]\n",
    "dataset = not_progressive_rock + progressive_rock"
   ]
  },
  {
   "cell_type": "code",
   "execution_count": 7,
   "id": "fcea4907-a00f-4600-9df9-4ccc3a789f7f",
   "metadata": {},
   "outputs": [
    {
     "data": {
      "text/plain": [
       "267"
      ]
     },
     "execution_count": 7,
     "metadata": {},
     "output_type": "execute_result"
    }
   ],
   "source": [
    "len(dataset)"
   ]
  },
  {
   "cell_type": "code",
   "execution_count": 10,
   "id": "527741ff-ac6b-471e-bb8b-2e9e745d832f",
   "metadata": {},
   "outputs": [],
   "source": [
    "from utils.audio import log_mel_spectrogram\n",
    "os.makedirs('data/process_test/',exist_ok=True)\n",
    "\n",
    "data = []\n",
    "for i, (path, value) in enumerate(dataset):\n",
    "    array = log_mel_spectrogram(path)\n",
    "    new_path = f'data/process_test/tensor_{i:04d}.pt'\n",
    "    torch.save(array, new_path)\n",
    "    data += [[new_path, value]]"
   ]
  },
  {
   "cell_type": "code",
   "execution_count": 11,
   "id": "6caee775-e58e-4df7-86af-3161a9c14808",
   "metadata": {},
   "outputs": [],
   "source": [
    "my_df = pd.DataFrame(dataset)\n",
    "my_df.to_csv('annotations_test_v3.csv', index=False, header=False)"
   ]
  },
  {
   "cell_type": "code",
   "execution_count": 68,
   "id": "9004a989-2aa2-4ed1-bc57-baf886f3fe19",
   "metadata": {},
   "outputs": [],
   "source": []
  },
  {
   "cell_type": "code",
   "execution_count": 8,
   "id": "b7f8b1f6-8fc4-4344-887f-a8c44094d781",
   "metadata": {},
   "outputs": [],
   "source": [
    "mypath = 'data/cap6610fa22_test_set/Progressive Rock Songs/'\n",
    "progressive_rock = [[os.path.join(dirpath,f), 1] for (dirpath, dirnames, filenames) in os.walk(mypath) for f in filenames if f.endswith('.mp3')]"
   ]
  },
  {
   "cell_type": "code",
   "execution_count": 9,
   "id": "fd280cb0-1f68-4ea8-8d4b-5f7de848be46",
   "metadata": {},
   "outputs": [],
   "source": [
    "mypath = 'data/cap6610fa22_test_set/Not_Progressive_Rock/'\n",
    "not_progressive_rock = [[os.path.join(dirpath,f), 0] for (dirpath, dirnames, filenames) in os.walk(mypath) for f in filenames if f.endswith('.mp3')]"
   ]
  },
  {
   "cell_type": "code",
   "execution_count": 10,
   "id": "129e740a-168d-45fa-803f-b4795738cca3",
   "metadata": {},
   "outputs": [],
   "source": [
    "dataset = not_progressive_rock + progressive_rock"
   ]
  },
  {
   "cell_type": "code",
   "execution_count": 11,
   "id": "aeb8118b-5d76-4fc5-9af6-3454a09a86d2",
   "metadata": {},
   "outputs": [],
   "source": [
    "my_df = pd.DataFrame(dataset)\n",
    "my_df.to_csv('annotations_test.csv', index=False, header=False)"
   ]
  },
  {
   "cell_type": "code",
   "execution_count": null,
   "id": "f0bb1eba-7368-4658-8ac9-eceaccf70f55",
   "metadata": {},
   "outputs": [],
   "source": []
  }
 ],
 "metadata": {
  "kernelspec": {
   "display_name": "project2_venv",
   "language": "python",
   "name": "project2_venv"
  },
  "language_info": {
   "codemirror_mode": {
    "name": "ipython",
    "version": 3
   },
   "file_extension": ".py",
   "mimetype": "text/x-python",
   "name": "python",
   "nbconvert_exporter": "python",
   "pygments_lexer": "ipython3",
   "version": "3.8.8"
  }
 },
 "nbformat": 4,
 "nbformat_minor": 5
}
