{
 "cells": [
  {
   "cell_type": "code",
   "execution_count": 1,
   "id": "149b37f1-c0cf-49bb-b593-937531d0ef9d",
   "metadata": {},
   "outputs": [
    {
     "name": "stderr",
     "output_type": "stream",
     "text": [
      "C:\\Users\\trdalm\\PycharmProjects\\Project2\\venv\\lib\\site-packages\\tqdm\\auto.py:22: TqdmWarning: IProgress not found. Please update jupyter and ipywidgets. See https://ipywidgets.readthedocs.io/en/stable/user_install.html\n",
      "  from .autonotebook import tqdm as notebook_tqdm\n"
     ]
    }
   ],
   "source": [
    "from os import listdir\n",
    "import os\n",
    "from os.path import isfile, join\n",
    "import numpy as np\n",
    "import pandas as pd\n",
    "import librosa\n",
    "import json\n",
    "from tqdm import tqdm\n",
    "import torch\n",
    "import csv"
   ]
  },
  {
   "cell_type": "code",
   "execution_count": 82,
   "id": "75e5dd1e-0687-4a5b-ac11-1a2da2c1d5ac",
   "metadata": {},
   "outputs": [],
   "source": [
    "mypath = 'data/raw/Progressive_Rock_Songs/'\n",
    "progressive_rock = [[os.path.join(dirpath,f), 1] for (dirpath, dirnames, filenames) in os.walk(mypath) for f in filenames if f.endswith('.mp3')]"
   ]
  },
  {
   "cell_type": "code",
   "execution_count": 83,
   "id": "dad8fb59-316d-4a44-8120-36002dcc4e00",
   "metadata": {},
   "outputs": [],
   "source": [
    "mypath = 'data/raw/Not_Progressive_Rock/'\n",
    "not_progressive_rock = [[os.path.join(dirpath,f), 0] for (dirpath, dirnames, filenames) in os.walk(mypath) for f in filenames if f.endswith('.mp3')]"
   ]
  },
  {
   "cell_type": "code",
   "execution_count": 84,
   "id": "244efc86-9df7-4a03-b64c-4ee64a0ef9cc",
   "metadata": {},
   "outputs": [],
   "source": [
    "dataset = not_progressive_rock + progressive_rock"
   ]
  },
  {
   "cell_type": "code",
   "execution_count": 86,
   "id": "4f582a02-ca0c-43ab-8a18-c9d1423b25c0",
   "metadata": {},
   "outputs": [],
   "source": [
    "my_df = pd.DataFrame(dataset)\n",
    "my_df.to_csv('annotations_v2.csv', index=False, header=False)"
   ]
  },
  {
   "cell_type": "code",
   "execution_count": 87,
   "id": "9187fecc-2ecd-47bd-9bea-cbbef34d990f",
   "metadata": {},
   "outputs": [
    {
     "data": {
      "text/html": [
       "<div>\n",
       "<style scoped>\n",
       "    .dataframe tbody tr th:only-of-type {\n",
       "        vertical-align: middle;\n",
       "    }\n",
       "\n",
       "    .dataframe tbody tr th {\n",
       "        vertical-align: top;\n",
       "    }\n",
       "\n",
       "    .dataframe thead th {\n",
       "        text-align: right;\n",
       "    }\n",
       "</style>\n",
       "<table border=\"1\" class=\"dataframe\">\n",
       "  <thead>\n",
       "    <tr style=\"text-align: right;\">\n",
       "      <th></th>\n",
       "      <th>0</th>\n",
       "      <th>1</th>\n",
       "    </tr>\n",
       "  </thead>\n",
       "  <tbody>\n",
       "    <tr>\n",
       "      <th>0</th>\n",
       "      <td>data/raw/Not_Progressive_Rock/Other_Songs\\01 -...</td>\n",
       "      <td>0</td>\n",
       "    </tr>\n",
       "    <tr>\n",
       "      <th>1</th>\n",
       "      <td>data/raw/Not_Progressive_Rock/Other_Songs\\01 -...</td>\n",
       "      <td>0</td>\n",
       "    </tr>\n",
       "    <tr>\n",
       "      <th>2</th>\n",
       "      <td>data/raw/Not_Progressive_Rock/Other_Songs\\01 -...</td>\n",
       "      <td>0</td>\n",
       "    </tr>\n",
       "    <tr>\n",
       "      <th>3</th>\n",
       "      <td>data/raw/Not_Progressive_Rock/Other_Songs\\01 -...</td>\n",
       "      <td>0</td>\n",
       "    </tr>\n",
       "    <tr>\n",
       "      <th>4</th>\n",
       "      <td>data/raw/Not_Progressive_Rock/Other_Songs\\01 -...</td>\n",
       "      <td>0</td>\n",
       "    </tr>\n",
       "    <tr>\n",
       "      <th>...</th>\n",
       "      <td>...</td>\n",
       "      <td>...</td>\n",
       "    </tr>\n",
       "    <tr>\n",
       "      <th>267</th>\n",
       "      <td>data/raw/Progressive_Rock_Songs/L'evoluzione.mp3</td>\n",
       "      <td>1</td>\n",
       "    </tr>\n",
       "    <tr>\n",
       "      <th>268</th>\n",
       "      <td>data/raw/Progressive_Rock_Songs/MIKE OLDFIELD ...</td>\n",
       "      <td>1</td>\n",
       "    </tr>\n",
       "    <tr>\n",
       "      <th>269</th>\n",
       "      <td>data/raw/Progressive_Rock_Songs/Pain of Salvat...</td>\n",
       "      <td>1</td>\n",
       "    </tr>\n",
       "    <tr>\n",
       "      <th>270</th>\n",
       "      <td>data/raw/Progressive_Rock_Songs/The Flower Kin...</td>\n",
       "      <td>1</td>\n",
       "    </tr>\n",
       "    <tr>\n",
       "      <th>271</th>\n",
       "      <td>data/raw/Progressive_Rock_Songs/Thick As A Bri...</td>\n",
       "      <td>1</td>\n",
       "    </tr>\n",
       "  </tbody>\n",
       "</table>\n",
       "<p>272 rows × 2 columns</p>\n",
       "</div>"
      ],
      "text/plain": [
       "                                                     0  1\n",
       "0    data/raw/Not_Progressive_Rock/Other_Songs\\01 -...  0\n",
       "1    data/raw/Not_Progressive_Rock/Other_Songs\\01 -...  0\n",
       "2    data/raw/Not_Progressive_Rock/Other_Songs\\01 -...  0\n",
       "3    data/raw/Not_Progressive_Rock/Other_Songs\\01 -...  0\n",
       "4    data/raw/Not_Progressive_Rock/Other_Songs\\01 -...  0\n",
       "..                                                 ... ..\n",
       "267   data/raw/Progressive_Rock_Songs/L'evoluzione.mp3  1\n",
       "268  data/raw/Progressive_Rock_Songs/MIKE OLDFIELD ...  1\n",
       "269  data/raw/Progressive_Rock_Songs/Pain of Salvat...  1\n",
       "270  data/raw/Progressive_Rock_Songs/The Flower Kin...  1\n",
       "271  data/raw/Progressive_Rock_Songs/Thick As A Bri...  1\n",
       "\n",
       "[272 rows x 2 columns]"
      ]
     },
     "execution_count": 87,
     "metadata": {},
     "output_type": "execute_result"
    }
   ],
   "source": [
    "pd.read_csv('annotations_v2.csv', header=None)"
   ]
  },
  {
   "cell_type": "code",
   "execution_count": 35,
   "id": "cfc9c5c3-5a4c-43f1-ba03-358e48399f07",
   "metadata": {},
   "outputs": [],
   "source": [
    "relative_path = 'data/'\n",
    "mypath = relative_path + 'raw/Progressive_Rock_Songs/'\n",
    "progressive_rock = [[os.path.join(dirpath,f), 1] for (dirpath, dirnames, filenames) in os.walk(mypath) for f in filenames if f.endswith('.mp3')]\n",
    "mypath = relative_path + 'raw/Not_Progressive_Rock/'\n",
    "not_progressive_rock = [[os.path.join(dirpath,f), 0] for (dirpath, dirnames, filenames) in os.walk(mypath) for f in filenames if f.endswith('.mp3')]\n",
    "dataset = not_progressive_rock + progressive_rock"
   ]
  },
  {
   "cell_type": "code",
   "execution_count": 40,
   "id": "67833a0f-f60a-487a-9d93-7c2602bf9938",
   "metadata": {},
   "outputs": [],
   "source": [
    "from utils.audio import log_mel_spectrogram\n",
    "os.makedirs('data/process/',exist_ok=True)\n",
    "\n",
    "data = []\n",
    "for i, (path, value) in enumerate(dataset):\n",
    "    array = log_mel_spectrogram(path)\n",
    "    new_path = f'data/process/tensor_{i:04d}.pt'\n",
    "    torch.save(array, new_path)\n",
    "    data += [[new_path, value]]"
   ]
  },
  {
   "cell_type": "code",
   "execution_count": 43,
   "id": "f0820623-5f42-4060-be3a-cd806ee41c30",
   "metadata": {},
   "outputs": [],
   "source": [
    "dataset = []\n",
    "for i in range(int(len(data)/2)):\n",
    "    dataset+=[[data[2*i],data[2*i+1]]]"
   ]
  },
  {
   "cell_type": "code",
   "execution_count": 45,
   "id": "934e3de4-a9ed-4265-8adc-1733de1bfde7",
   "metadata": {},
   "outputs": [],
   "source": [
    "my_df = pd.DataFrame(dataset)\n",
    "my_df.to_csv('annotations_v3.csv', index=False, header=False)"
   ]
  },
  {
   "cell_type": "code",
   "execution_count": 2,
   "id": "a79e2cbe-f767-4045-8e25-10b1879d42fb",
   "metadata": {},
   "outputs": [],
   "source": [
    "relative_path = 'data/'\n",
    "mypath = relative_path + 'cap6610fa22_test_set_v2/Progressive_Rock_Songs/'\n",
    "progressive_rock = [[os.path.join(dirpath,f), 1] for (dirpath, dirnames, filenames) in os.walk(mypath) for f in filenames if f.endswith('.mp3')]\n",
    "mypath = relative_path + 'cap6610fa22_test_set_v2/Not_Progressive_Rock/'\n",
    "not_progressive_rock = [[os.path.join(dirpath,f), 0] for (dirpath, dirnames, filenames) in os.walk(mypath) for f in filenames if f.endswith('.mp3')]\n",
    "dataset = not_progressive_rock + progressive_rock"
   ]
  },
  {
   "cell_type": "code",
   "execution_count": null,
   "id": "c231d56d-4b07-4597-bc40-9f77570ef0fa",
   "metadata": {},
   "outputs": [],
   "source": [
    "mypath = relative_path + 'cap6610fa22_test_set_v2/Other/'\n",
    "other = [[os.path.join(dirpath,f), 0] for (dirpath, dirnames, filenames) in os.walk(mypath) for f in filenames if f.endswith('.mp3')]"
   ]
  },
  {
   "cell_type": "code",
   "execution_count": 3,
   "id": "fcea4907-a00f-4600-9df9-4ccc3a789f7f",
   "metadata": {},
   "outputs": [
    {
     "data": {
      "text/plain": [
       "245"
      ]
     },
     "execution_count": 3,
     "metadata": {},
     "output_type": "execute_result"
    }
   ],
   "source": [
    "len(dataset)"
   ]
  },
  {
   "cell_type": "code",
   "execution_count": 4,
   "id": "527741ff-ac6b-471e-bb8b-2e9e745d832f",
   "metadata": {},
   "outputs": [],
   "source": [
    "from utils.audio import log_mel_spectrogram\n",
    "os.makedirs('data/process_test_v2/',exist_ok=True)\n",
    "\n",
    "data = []\n",
    "for i, (path, value) in enumerate(dataset):\n",
    "    array = log_mel_spectrogram(path)\n",
    "    new_path = f'data/process_test_v2/tensor_{i:04d}.pt'\n",
    "    torch.save(array, new_path)\n",
    "    data += [[new_path, value]]"
   ]
  },
  {
   "cell_type": "code",
   "execution_count": 12,
   "id": "b39f3a23-3d80-4cf4-9f15-f3de71918bf1",
   "metadata": {
    "collapsed": true,
    "jupyter": {
     "outputs_hidden": true
    },
    "tags": []
   },
   "outputs": [
    {
     "data": {
      "text/plain": [
       "[['data/process_test/tensor_0000.pt', 0],\n",
       " ['data/process_test/tensor_0001.pt', 0],\n",
       " ['data/process_test/tensor_0002.pt', 0],\n",
       " ['data/process_test/tensor_0003.pt', 0],\n",
       " ['data/process_test/tensor_0004.pt', 0],\n",
       " ['data/process_test/tensor_0005.pt', 0],\n",
       " ['data/process_test/tensor_0006.pt', 0],\n",
       " ['data/process_test/tensor_0007.pt', 0],\n",
       " ['data/process_test/tensor_0008.pt', 0],\n",
       " ['data/process_test/tensor_0009.pt', 0],\n",
       " ['data/process_test/tensor_0010.pt', 0],\n",
       " ['data/process_test/tensor_0011.pt', 0],\n",
       " ['data/process_test/tensor_0012.pt', 0],\n",
       " ['data/process_test/tensor_0013.pt', 0],\n",
       " ['data/process_test/tensor_0014.pt', 0],\n",
       " ['data/process_test/tensor_0015.pt', 0],\n",
       " ['data/process_test/tensor_0016.pt', 0],\n",
       " ['data/process_test/tensor_0017.pt', 0],\n",
       " ['data/process_test/tensor_0018.pt', 0],\n",
       " ['data/process_test/tensor_0019.pt', 0],\n",
       " ['data/process_test/tensor_0020.pt', 0],\n",
       " ['data/process_test/tensor_0021.pt', 0],\n",
       " ['data/process_test/tensor_0022.pt', 0],\n",
       " ['data/process_test/tensor_0023.pt', 0],\n",
       " ['data/process_test/tensor_0024.pt', 0],\n",
       " ['data/process_test/tensor_0025.pt', 0],\n",
       " ['data/process_test/tensor_0026.pt', 0],\n",
       " ['data/process_test/tensor_0027.pt', 0],\n",
       " ['data/process_test/tensor_0028.pt', 0],\n",
       " ['data/process_test/tensor_0029.pt', 0],\n",
       " ['data/process_test/tensor_0030.pt', 0],\n",
       " ['data/process_test/tensor_0031.pt', 0],\n",
       " ['data/process_test/tensor_0032.pt', 0],\n",
       " ['data/process_test/tensor_0033.pt', 0],\n",
       " ['data/process_test/tensor_0034.pt', 0],\n",
       " ['data/process_test/tensor_0035.pt', 0],\n",
       " ['data/process_test/tensor_0036.pt', 0],\n",
       " ['data/process_test/tensor_0037.pt', 0],\n",
       " ['data/process_test/tensor_0038.pt', 0],\n",
       " ['data/process_test/tensor_0039.pt', 0],\n",
       " ['data/process_test/tensor_0040.pt', 0],\n",
       " ['data/process_test/tensor_0041.pt', 0],\n",
       " ['data/process_test/tensor_0042.pt', 0],\n",
       " ['data/process_test/tensor_0043.pt', 0],\n",
       " ['data/process_test/tensor_0044.pt', 0],\n",
       " ['data/process_test/tensor_0045.pt', 0],\n",
       " ['data/process_test/tensor_0046.pt', 0],\n",
       " ['data/process_test/tensor_0047.pt', 0],\n",
       " ['data/process_test/tensor_0048.pt', 0],\n",
       " ['data/process_test/tensor_0049.pt', 0],\n",
       " ['data/process_test/tensor_0050.pt', 0],\n",
       " ['data/process_test/tensor_0051.pt', 0],\n",
       " ['data/process_test/tensor_0052.pt', 0],\n",
       " ['data/process_test/tensor_0053.pt', 0],\n",
       " ['data/process_test/tensor_0054.pt', 0],\n",
       " ['data/process_test/tensor_0055.pt', 0],\n",
       " ['data/process_test/tensor_0056.pt', 0],\n",
       " ['data/process_test/tensor_0057.pt', 0],\n",
       " ['data/process_test/tensor_0058.pt', 0],\n",
       " ['data/process_test/tensor_0059.pt', 0],\n",
       " ['data/process_test/tensor_0060.pt', 0],\n",
       " ['data/process_test/tensor_0061.pt', 0],\n",
       " ['data/process_test/tensor_0062.pt', 0],\n",
       " ['data/process_test/tensor_0063.pt', 0],\n",
       " ['data/process_test/tensor_0064.pt', 0],\n",
       " ['data/process_test/tensor_0065.pt', 0],\n",
       " ['data/process_test/tensor_0066.pt', 0],\n",
       " ['data/process_test/tensor_0067.pt', 0],\n",
       " ['data/process_test/tensor_0068.pt', 0],\n",
       " ['data/process_test/tensor_0069.pt', 0],\n",
       " ['data/process_test/tensor_0070.pt', 0],\n",
       " ['data/process_test/tensor_0071.pt', 0],\n",
       " ['data/process_test/tensor_0072.pt', 0],\n",
       " ['data/process_test/tensor_0073.pt', 0],\n",
       " ['data/process_test/tensor_0074.pt', 0],\n",
       " ['data/process_test/tensor_0075.pt', 0],\n",
       " ['data/process_test/tensor_0076.pt', 0],\n",
       " ['data/process_test/tensor_0077.pt', 0],\n",
       " ['data/process_test/tensor_0078.pt', 0],\n",
       " ['data/process_test/tensor_0079.pt', 0],\n",
       " ['data/process_test/tensor_0080.pt', 0],\n",
       " ['data/process_test/tensor_0081.pt', 0],\n",
       " ['data/process_test/tensor_0082.pt', 0],\n",
       " ['data/process_test/tensor_0083.pt', 0],\n",
       " ['data/process_test/tensor_0084.pt', 0],\n",
       " ['data/process_test/tensor_0085.pt', 0],\n",
       " ['data/process_test/tensor_0086.pt', 0],\n",
       " ['data/process_test/tensor_0087.pt', 0],\n",
       " ['data/process_test/tensor_0088.pt', 0],\n",
       " ['data/process_test/tensor_0089.pt', 0],\n",
       " ['data/process_test/tensor_0090.pt', 0],\n",
       " ['data/process_test/tensor_0091.pt', 0],\n",
       " ['data/process_test/tensor_0092.pt', 0],\n",
       " ['data/process_test/tensor_0093.pt', 0],\n",
       " ['data/process_test/tensor_0094.pt', 0],\n",
       " ['data/process_test/tensor_0095.pt', 0],\n",
       " ['data/process_test/tensor_0096.pt', 0],\n",
       " ['data/process_test/tensor_0097.pt', 0],\n",
       " ['data/process_test/tensor_0098.pt', 0],\n",
       " ['data/process_test/tensor_0099.pt', 0],\n",
       " ['data/process_test/tensor_0100.pt', 0],\n",
       " ['data/process_test/tensor_0101.pt', 0],\n",
       " ['data/process_test/tensor_0102.pt', 0],\n",
       " ['data/process_test/tensor_0103.pt', 0],\n",
       " ['data/process_test/tensor_0104.pt', 0],\n",
       " ['data/process_test/tensor_0105.pt', 0],\n",
       " ['data/process_test/tensor_0106.pt', 0],\n",
       " ['data/process_test/tensor_0107.pt', 0],\n",
       " ['data/process_test/tensor_0108.pt', 0],\n",
       " ['data/process_test/tensor_0109.pt', 0],\n",
       " ['data/process_test/tensor_0110.pt', 0],\n",
       " ['data/process_test/tensor_0111.pt', 0],\n",
       " ['data/process_test/tensor_0112.pt', 0],\n",
       " ['data/process_test/tensor_0113.pt', 0],\n",
       " ['data/process_test/tensor_0114.pt', 0],\n",
       " ['data/process_test/tensor_0115.pt', 0],\n",
       " ['data/process_test/tensor_0116.pt', 0],\n",
       " ['data/process_test/tensor_0117.pt', 0],\n",
       " ['data/process_test/tensor_0118.pt', 0],\n",
       " ['data/process_test/tensor_0119.pt', 0],\n",
       " ['data/process_test/tensor_0120.pt', 0],\n",
       " ['data/process_test/tensor_0121.pt', 0],\n",
       " ['data/process_test/tensor_0122.pt', 0],\n",
       " ['data/process_test/tensor_0123.pt', 0],\n",
       " ['data/process_test/tensor_0124.pt', 0],\n",
       " ['data/process_test/tensor_0125.pt', 0],\n",
       " ['data/process_test/tensor_0126.pt', 0],\n",
       " ['data/process_test/tensor_0127.pt', 0],\n",
       " ['data/process_test/tensor_0128.pt', 0],\n",
       " ['data/process_test/tensor_0129.pt', 0],\n",
       " ['data/process_test/tensor_0130.pt', 0],\n",
       " ['data/process_test/tensor_0131.pt', 0],\n",
       " ['data/process_test/tensor_0132.pt', 0],\n",
       " ['data/process_test/tensor_0133.pt', 0],\n",
       " ['data/process_test/tensor_0134.pt', 0],\n",
       " ['data/process_test/tensor_0135.pt', 0],\n",
       " ['data/process_test/tensor_0136.pt', 0],\n",
       " ['data/process_test/tensor_0137.pt', 0],\n",
       " ['data/process_test/tensor_0138.pt', 0],\n",
       " ['data/process_test/tensor_0139.pt', 0],\n",
       " ['data/process_test/tensor_0140.pt', 0],\n",
       " ['data/process_test/tensor_0141.pt', 0],\n",
       " ['data/process_test/tensor_0142.pt', 0],\n",
       " ['data/process_test/tensor_0143.pt', 0],\n",
       " ['data/process_test/tensor_0144.pt', 1],\n",
       " ['data/process_test/tensor_0145.pt', 1],\n",
       " ['data/process_test/tensor_0146.pt', 1],\n",
       " ['data/process_test/tensor_0147.pt', 1],\n",
       " ['data/process_test/tensor_0148.pt', 1],\n",
       " ['data/process_test/tensor_0149.pt', 1],\n",
       " ['data/process_test/tensor_0150.pt', 1],\n",
       " ['data/process_test/tensor_0151.pt', 1],\n",
       " ['data/process_test/tensor_0152.pt', 1],\n",
       " ['data/process_test/tensor_0153.pt', 1],\n",
       " ['data/process_test/tensor_0154.pt', 1],\n",
       " ['data/process_test/tensor_0155.pt', 1],\n",
       " ['data/process_test/tensor_0156.pt', 1],\n",
       " ['data/process_test/tensor_0157.pt', 1],\n",
       " ['data/process_test/tensor_0158.pt', 1],\n",
       " ['data/process_test/tensor_0159.pt', 1],\n",
       " ['data/process_test/tensor_0160.pt', 1],\n",
       " ['data/process_test/tensor_0161.pt', 1],\n",
       " ['data/process_test/tensor_0162.pt', 1],\n",
       " ['data/process_test/tensor_0163.pt', 1],\n",
       " ['data/process_test/tensor_0164.pt', 1],\n",
       " ['data/process_test/tensor_0165.pt', 1],\n",
       " ['data/process_test/tensor_0166.pt', 1],\n",
       " ['data/process_test/tensor_0167.pt', 1],\n",
       " ['data/process_test/tensor_0168.pt', 1],\n",
       " ['data/process_test/tensor_0169.pt', 1],\n",
       " ['data/process_test/tensor_0170.pt', 1],\n",
       " ['data/process_test/tensor_0171.pt', 1],\n",
       " ['data/process_test/tensor_0172.pt', 1],\n",
       " ['data/process_test/tensor_0173.pt', 1],\n",
       " ['data/process_test/tensor_0174.pt', 1],\n",
       " ['data/process_test/tensor_0175.pt', 1],\n",
       " ['data/process_test/tensor_0176.pt', 1],\n",
       " ['data/process_test/tensor_0177.pt', 1],\n",
       " ['data/process_test/tensor_0178.pt', 1],\n",
       " ['data/process_test/tensor_0179.pt', 1],\n",
       " ['data/process_test/tensor_0180.pt', 1],\n",
       " ['data/process_test/tensor_0181.pt', 1],\n",
       " ['data/process_test/tensor_0182.pt', 1],\n",
       " ['data/process_test/tensor_0183.pt', 1],\n",
       " ['data/process_test/tensor_0184.pt', 1],\n",
       " ['data/process_test/tensor_0185.pt', 1],\n",
       " ['data/process_test/tensor_0186.pt', 1],\n",
       " ['data/process_test/tensor_0187.pt', 1],\n",
       " ['data/process_test/tensor_0188.pt', 1],\n",
       " ['data/process_test/tensor_0189.pt', 1],\n",
       " ['data/process_test/tensor_0190.pt', 1],\n",
       " ['data/process_test/tensor_0191.pt', 1],\n",
       " ['data/process_test/tensor_0192.pt', 1],\n",
       " ['data/process_test/tensor_0193.pt', 1],\n",
       " ['data/process_test/tensor_0194.pt', 1],\n",
       " ['data/process_test/tensor_0195.pt', 1],\n",
       " ['data/process_test/tensor_0196.pt', 1],\n",
       " ['data/process_test/tensor_0197.pt', 1],\n",
       " ['data/process_test/tensor_0198.pt', 1],\n",
       " ['data/process_test/tensor_0199.pt', 1],\n",
       " ['data/process_test/tensor_0200.pt', 1],\n",
       " ['data/process_test/tensor_0201.pt', 1],\n",
       " ['data/process_test/tensor_0202.pt', 1],\n",
       " ['data/process_test/tensor_0203.pt', 1],\n",
       " ['data/process_test/tensor_0204.pt', 1],\n",
       " ['data/process_test/tensor_0205.pt', 1],\n",
       " ['data/process_test/tensor_0206.pt', 1],\n",
       " ['data/process_test/tensor_0207.pt', 1],\n",
       " ['data/process_test/tensor_0208.pt', 1],\n",
       " ['data/process_test/tensor_0209.pt', 1],\n",
       " ['data/process_test/tensor_0210.pt', 1],\n",
       " ['data/process_test/tensor_0211.pt', 1],\n",
       " ['data/process_test/tensor_0212.pt', 1],\n",
       " ['data/process_test/tensor_0213.pt', 1],\n",
       " ['data/process_test/tensor_0214.pt', 1],\n",
       " ['data/process_test/tensor_0215.pt', 1],\n",
       " ['data/process_test/tensor_0216.pt', 1],\n",
       " ['data/process_test/tensor_0217.pt', 1],\n",
       " ['data/process_test/tensor_0218.pt', 1],\n",
       " ['data/process_test/tensor_0219.pt', 1],\n",
       " ['data/process_test/tensor_0220.pt', 1],\n",
       " ['data/process_test/tensor_0221.pt', 1],\n",
       " ['data/process_test/tensor_0222.pt', 1],\n",
       " ['data/process_test/tensor_0223.pt', 1],\n",
       " ['data/process_test/tensor_0224.pt', 1],\n",
       " ['data/process_test/tensor_0225.pt', 1],\n",
       " ['data/process_test/tensor_0226.pt', 1],\n",
       " ['data/process_test/tensor_0227.pt', 1],\n",
       " ['data/process_test/tensor_0228.pt', 1],\n",
       " ['data/process_test/tensor_0229.pt', 1],\n",
       " ['data/process_test/tensor_0230.pt', 1],\n",
       " ['data/process_test/tensor_0231.pt', 1],\n",
       " ['data/process_test/tensor_0232.pt', 1],\n",
       " ['data/process_test/tensor_0233.pt', 1],\n",
       " ['data/process_test/tensor_0234.pt', 1],\n",
       " ['data/process_test/tensor_0235.pt', 1],\n",
       " ['data/process_test/tensor_0236.pt', 1],\n",
       " ['data/process_test/tensor_0237.pt', 1],\n",
       " ['data/process_test/tensor_0238.pt', 1],\n",
       " ['data/process_test/tensor_0239.pt', 1],\n",
       " ['data/process_test/tensor_0240.pt', 1],\n",
       " ['data/process_test/tensor_0241.pt', 1],\n",
       " ['data/process_test/tensor_0242.pt', 1],\n",
       " ['data/process_test/tensor_0243.pt', 1],\n",
       " ['data/process_test/tensor_0244.pt', 1],\n",
       " ['data/process_test/tensor_0245.pt', 1],\n",
       " ['data/process_test/tensor_0246.pt', 1],\n",
       " ['data/process_test/tensor_0247.pt', 1],\n",
       " ['data/process_test/tensor_0248.pt', 1],\n",
       " ['data/process_test/tensor_0249.pt', 1],\n",
       " ['data/process_test/tensor_0250.pt', 1],\n",
       " ['data/process_test/tensor_0251.pt', 1],\n",
       " ['data/process_test/tensor_0252.pt', 1],\n",
       " ['data/process_test/tensor_0253.pt', 1],\n",
       " ['data/process_test/tensor_0254.pt', 1],\n",
       " ['data/process_test/tensor_0255.pt', 1],\n",
       " ['data/process_test/tensor_0256.pt', 1],\n",
       " ['data/process_test/tensor_0257.pt', 1],\n",
       " ['data/process_test/tensor_0258.pt', 1],\n",
       " ['data/process_test/tensor_0259.pt', 1],\n",
       " ['data/process_test/tensor_0260.pt', 1],\n",
       " ['data/process_test/tensor_0261.pt', 1],\n",
       " ['data/process_test/tensor_0262.pt', 1],\n",
       " ['data/process_test/tensor_0263.pt', 1],\n",
       " ['data/process_test/tensor_0264.pt', 1],\n",
       " ['data/process_test/tensor_0265.pt', 1],\n",
       " ['data/process_test/tensor_0266.pt', 1]]"
      ]
     },
     "execution_count": 12,
     "metadata": {},
     "output_type": "execute_result"
    }
   ],
   "source": [
    "data"
   ]
  },
  {
   "cell_type": "code",
   "execution_count": 5,
   "id": "6caee775-e58e-4df7-86af-3161a9c14808",
   "metadata": {},
   "outputs": [],
   "source": [
    "my_df = pd.DataFrame(data)\n",
    "my_df.to_csv('annotations_test_v4.csv', index=False, header=False)"
   ]
  },
  {
   "cell_type": "code",
   "execution_count": 68,
   "id": "9004a989-2aa2-4ed1-bc57-baf886f3fe19",
   "metadata": {},
   "outputs": [],
   "source": []
  },
  {
   "cell_type": "code",
   "execution_count": 6,
   "id": "853e837e-10bd-43c6-a84e-48d6fca7b49d",
   "metadata": {},
   "outputs": [],
   "source": [
    "mypath = relative_path + 'cap6610fa22_test_set_v2/Other/'\n",
    "dataset = [[os.path.join(dirpath,f), 0] for (dirpath, dirnames, filenames) in os.walk(mypath) for f in filenames if f.endswith('.mp3')]"
   ]
  },
  {
   "cell_type": "code",
   "execution_count": 7,
   "id": "bf170020-14fb-4998-a04d-403b68e351ae",
   "metadata": {},
   "outputs": [],
   "source": [
    "from utils.audio import log_mel_spectrogram\n",
    "os.makedirs('data/process_other_v2/',exist_ok=True)\n",
    "\n",
    "data = []\n",
    "for i, (path, value) in enumerate(dataset):\n",
    "    array = log_mel_spectrogram(path)\n",
    "    new_path = f'data/process_other_v2/tensor_{i:04d}.pt'\n",
    "    torch.save(array, new_path)\n",
    "    data += [[new_path, value]]"
   ]
  },
  {
   "cell_type": "code",
   "execution_count": 8,
   "id": "b156134e-9850-432b-9ee2-2af02fad07aa",
   "metadata": {},
   "outputs": [],
   "source": [
    "my_df = pd.DataFrame(data)\n",
    "my_df.to_csv('annotations_other_v4.csv', index=False, header=False)"
   ]
  },
  {
   "cell_type": "code",
   "execution_count": null,
   "id": "7c63512f-81ac-45d7-856b-59a219764e98",
   "metadata": {},
   "outputs": [],
   "source": []
  },
  {
   "cell_type": "code",
   "execution_count": null,
   "id": "9d224783-728b-4fda-abd9-5b4372dc6ba2",
   "metadata": {},
   "outputs": [],
   "source": []
  },
  {
   "cell_type": "code",
   "execution_count": 8,
   "id": "b7f8b1f6-8fc4-4344-887f-a8c44094d781",
   "metadata": {},
   "outputs": [],
   "source": [
    "mypath = 'data/cap6610fa22_test_set/Progressive Rock Songs/'\n",
    "progressive_rock = [[os.path.join(dirpath,f), 1] for (dirpath, dirnames, filenames) in os.walk(mypath) for f in filenames if f.endswith('.mp3')]"
   ]
  },
  {
   "cell_type": "code",
   "execution_count": 9,
   "id": "fd280cb0-1f68-4ea8-8d4b-5f7de848be46",
   "metadata": {},
   "outputs": [],
   "source": [
    "mypath = 'data/cap6610fa22_test_set/Not_Progressive_Rock/'\n",
    "not_progressive_rock = [[os.path.join(dirpath,f), 0] for (dirpath, dirnames, filenames) in os.walk(mypath) for f in filenames if f.endswith('.mp3')]"
   ]
  },
  {
   "cell_type": "code",
   "execution_count": 10,
   "id": "129e740a-168d-45fa-803f-b4795738cca3",
   "metadata": {},
   "outputs": [],
   "source": [
    "dataset = not_progressive_rock + progressive_rock"
   ]
  },
  {
   "cell_type": "code",
   "execution_count": 11,
   "id": "aeb8118b-5d76-4fc5-9af6-3454a09a86d2",
   "metadata": {},
   "outputs": [],
   "source": [
    "my_df = pd.DataFrame(dataset)\n",
    "my_df.to_csv('annotations_test.csv', index=False, header=False)"
   ]
  },
  {
   "cell_type": "code",
   "execution_count": null,
   "id": "f0bb1eba-7368-4658-8ac9-eceaccf70f55",
   "metadata": {},
   "outputs": [],
   "source": []
  },
  {
   "cell_type": "code",
   "execution_count": null,
   "id": "e5a23b6f-de53-4813-ba8f-b946b4501701",
   "metadata": {},
   "outputs": [],
   "source": []
  },
  {
   "cell_type": "code",
   "execution_count": null,
   "id": "22253fb4-d39a-40e1-9e57-340bd9bc76b5",
   "metadata": {},
   "outputs": [],
   "source": []
  },
  {
   "cell_type": "code",
   "execution_count": 14,
   "id": "f09de224-80ed-4f86-9ae9-87a268599586",
   "metadata": {},
   "outputs": [],
   "source": [
    "import whisper"
   ]
  },
  {
   "cell_type": "code",
   "execution_count": 15,
   "id": "8cee706a-4942-467a-8644-77e534eebb2b",
   "metadata": {},
   "outputs": [
    {
     "name": "stderr",
     "output_type": "stream",
     "text": [
      "C:\\Users\\trdalm\\PycharmProjects\\Project2\\venv\\lib\\site-packages\\whisper\\__init__.py:44: UserWarning: C:\\Users\\trdalm\\.cache\\whisper\\base.en.pt exists, but the SHA256 checksum does not match; re-downloading the file\n",
      "  warnings.warn(f\"{download_target} exists, but the SHA256 checksum does not match; re-downloading the file\")\n",
      "100%|███████████████████████████████████████| 139M/139M [00:48<00:00, 2.97MiB/s]\n"
     ]
    }
   ],
   "source": [
    "model = whisper.load_model(\"base.en\")"
   ]
  },
  {
   "cell_type": "code",
   "execution_count": 16,
   "id": "848f953e-13e5-45ee-a8c7-ef8bef038cdd",
   "metadata": {},
   "outputs": [
    {
     "data": {
      "text/plain": [
       "ModelDimensions(n_mels=80, n_audio_ctx=1500, n_audio_state=512, n_audio_head=8, n_audio_layer=6, n_vocab=51864, n_text_ctx=448, n_text_state=512, n_text_head=8, n_text_layer=6)"
      ]
     },
     "execution_count": 16,
     "metadata": {},
     "output_type": "execute_result"
    }
   ],
   "source": [
    "model.dims"
   ]
  },
  {
   "cell_type": "code",
   "execution_count": 17,
   "id": "da65a195-f8da-4383-91a3-dd6fdd834cab",
   "metadata": {},
   "outputs": [
    {
     "data": {
      "text/plain": [
       "AudioEncoder(\n",
       "  (conv1): Conv1d(80, 512, kernel_size=(3,), stride=(1,), padding=(1,))\n",
       "  (conv2): Conv1d(512, 512, kernel_size=(3,), stride=(2,), padding=(1,))\n",
       "  (blocks): ModuleList(\n",
       "    (0): ResidualAttentionBlock(\n",
       "      (attn): MultiHeadAttention(\n",
       "        (query): Linear(in_features=512, out_features=512, bias=True)\n",
       "        (key): Linear(in_features=512, out_features=512, bias=False)\n",
       "        (value): Linear(in_features=512, out_features=512, bias=True)\n",
       "        (out): Linear(in_features=512, out_features=512, bias=True)\n",
       "      )\n",
       "      (attn_ln): LayerNorm((512,), eps=1e-05, elementwise_affine=True)\n",
       "      (mlp): Sequential(\n",
       "        (0): Linear(in_features=512, out_features=2048, bias=True)\n",
       "        (1): GELU(approximate='none')\n",
       "        (2): Linear(in_features=2048, out_features=512, bias=True)\n",
       "      )\n",
       "      (mlp_ln): LayerNorm((512,), eps=1e-05, elementwise_affine=True)\n",
       "    )\n",
       "    (1): ResidualAttentionBlock(\n",
       "      (attn): MultiHeadAttention(\n",
       "        (query): Linear(in_features=512, out_features=512, bias=True)\n",
       "        (key): Linear(in_features=512, out_features=512, bias=False)\n",
       "        (value): Linear(in_features=512, out_features=512, bias=True)\n",
       "        (out): Linear(in_features=512, out_features=512, bias=True)\n",
       "      )\n",
       "      (attn_ln): LayerNorm((512,), eps=1e-05, elementwise_affine=True)\n",
       "      (mlp): Sequential(\n",
       "        (0): Linear(in_features=512, out_features=2048, bias=True)\n",
       "        (1): GELU(approximate='none')\n",
       "        (2): Linear(in_features=2048, out_features=512, bias=True)\n",
       "      )\n",
       "      (mlp_ln): LayerNorm((512,), eps=1e-05, elementwise_affine=True)\n",
       "    )\n",
       "    (2): ResidualAttentionBlock(\n",
       "      (attn): MultiHeadAttention(\n",
       "        (query): Linear(in_features=512, out_features=512, bias=True)\n",
       "        (key): Linear(in_features=512, out_features=512, bias=False)\n",
       "        (value): Linear(in_features=512, out_features=512, bias=True)\n",
       "        (out): Linear(in_features=512, out_features=512, bias=True)\n",
       "      )\n",
       "      (attn_ln): LayerNorm((512,), eps=1e-05, elementwise_affine=True)\n",
       "      (mlp): Sequential(\n",
       "        (0): Linear(in_features=512, out_features=2048, bias=True)\n",
       "        (1): GELU(approximate='none')\n",
       "        (2): Linear(in_features=2048, out_features=512, bias=True)\n",
       "      )\n",
       "      (mlp_ln): LayerNorm((512,), eps=1e-05, elementwise_affine=True)\n",
       "    )\n",
       "    (3): ResidualAttentionBlock(\n",
       "      (attn): MultiHeadAttention(\n",
       "        (query): Linear(in_features=512, out_features=512, bias=True)\n",
       "        (key): Linear(in_features=512, out_features=512, bias=False)\n",
       "        (value): Linear(in_features=512, out_features=512, bias=True)\n",
       "        (out): Linear(in_features=512, out_features=512, bias=True)\n",
       "      )\n",
       "      (attn_ln): LayerNorm((512,), eps=1e-05, elementwise_affine=True)\n",
       "      (mlp): Sequential(\n",
       "        (0): Linear(in_features=512, out_features=2048, bias=True)\n",
       "        (1): GELU(approximate='none')\n",
       "        (2): Linear(in_features=2048, out_features=512, bias=True)\n",
       "      )\n",
       "      (mlp_ln): LayerNorm((512,), eps=1e-05, elementwise_affine=True)\n",
       "    )\n",
       "    (4): ResidualAttentionBlock(\n",
       "      (attn): MultiHeadAttention(\n",
       "        (query): Linear(in_features=512, out_features=512, bias=True)\n",
       "        (key): Linear(in_features=512, out_features=512, bias=False)\n",
       "        (value): Linear(in_features=512, out_features=512, bias=True)\n",
       "        (out): Linear(in_features=512, out_features=512, bias=True)\n",
       "      )\n",
       "      (attn_ln): LayerNorm((512,), eps=1e-05, elementwise_affine=True)\n",
       "      (mlp): Sequential(\n",
       "        (0): Linear(in_features=512, out_features=2048, bias=True)\n",
       "        (1): GELU(approximate='none')\n",
       "        (2): Linear(in_features=2048, out_features=512, bias=True)\n",
       "      )\n",
       "      (mlp_ln): LayerNorm((512,), eps=1e-05, elementwise_affine=True)\n",
       "    )\n",
       "    (5): ResidualAttentionBlock(\n",
       "      (attn): MultiHeadAttention(\n",
       "        (query): Linear(in_features=512, out_features=512, bias=True)\n",
       "        (key): Linear(in_features=512, out_features=512, bias=False)\n",
       "        (value): Linear(in_features=512, out_features=512, bias=True)\n",
       "        (out): Linear(in_features=512, out_features=512, bias=True)\n",
       "      )\n",
       "      (attn_ln): LayerNorm((512,), eps=1e-05, elementwise_affine=True)\n",
       "      (mlp): Sequential(\n",
       "        (0): Linear(in_features=512, out_features=2048, bias=True)\n",
       "        (1): GELU(approximate='none')\n",
       "        (2): Linear(in_features=2048, out_features=512, bias=True)\n",
       "      )\n",
       "      (mlp_ln): LayerNorm((512,), eps=1e-05, elementwise_affine=True)\n",
       "    )\n",
       "  )\n",
       "  (ln_post): LayerNorm((512,), eps=1e-05, elementwise_affine=True)\n",
       ")"
      ]
     },
     "execution_count": 17,
     "metadata": {},
     "output_type": "execute_result"
    }
   ],
   "source": [
    "model.encoder"
   ]
  },
  {
   "cell_type": "code",
   "execution_count": 21,
   "id": "0e76f05a-7f91-4451-a18e-4bfef567f8f2",
   "metadata": {},
   "outputs": [],
   "source": [
    "from utils.model import AudioClassifier, ModelDimensions"
   ]
  },
  {
   "cell_type": "code",
   "execution_count": 23,
   "id": "5408a006-93b5-402b-a568-3757da995f86",
   "metadata": {},
   "outputs": [],
   "source": [
    "dims = ModelDimensions(n_mels=80, n_audio_ctx=1500, n_audio_state=512, n_audio_head=8, n_audio_layer=6)"
   ]
  },
  {
   "cell_type": "code",
   "execution_count": 24,
   "id": "4fe874fe-2f3d-48ee-996a-ad42d501184f",
   "metadata": {},
   "outputs": [],
   "source": [
    "model_audio = AudioClassifier(dims)"
   ]
  },
  {
   "cell_type": "code",
   "execution_count": 25,
   "id": "a8753186-8daa-4004-aa14-d685744df2ae",
   "metadata": {},
   "outputs": [],
   "source": [
    "model_audio.encoder = model.encoder"
   ]
  },
  {
   "cell_type": "code",
   "execution_count": 26,
   "id": "40c64264-113b-44c1-83b3-bdb23f5179df",
   "metadata": {},
   "outputs": [],
   "source": [
    "torch.save(model_audio.state_dict(), 'models/pretrained_small.pth')"
   ]
  },
  {
   "cell_type": "code",
   "execution_count": null,
   "id": "379549df-93e6-4d1e-946f-896bfdcb46cb",
   "metadata": {},
   "outputs": [],
   "source": []
  }
 ],
 "metadata": {
  "kernelspec": {
   "display_name": "project2_venv",
   "language": "python",
   "name": "project2_venv"
  },
  "language_info": {
   "codemirror_mode": {
    "name": "ipython",
    "version": 3
   },
   "file_extension": ".py",
   "mimetype": "text/x-python",
   "name": "python",
   "nbconvert_exporter": "python",
   "pygments_lexer": "ipython3",
   "version": "3.8.8"
  }
 },
 "nbformat": 4,
 "nbformat_minor": 5
}
